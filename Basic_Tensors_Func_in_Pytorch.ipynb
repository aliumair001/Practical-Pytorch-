{
  "nbformat": 4,
  "nbformat_minor": 0,
  "metadata": {
    "colab": {
      "provenance": []
    },
    "kernelspec": {
      "name": "python3",
      "display_name": "Python 3"
    },
    "language_info": {
      "name": "python"
    }
  },
  "cells": [
    {
      "cell_type": "code",
      "execution_count": null,
      "metadata": {
        "id": "lP-tqO5n3O55"
      },
      "outputs": [],
      "source": [
        "import torch"
      ]
    },
    {
      "cell_type": "markdown",
      "source": [
        "****"
      ],
      "metadata": {
        "id": "AbuU3tBkMOiI"
      }
    },
    {
      "cell_type": "code",
      "source": [
        "#Empty function\n",
        "a= torch.empty(3,3)\n",
        "a\n",
        "# Empty function just create meomory allocation"
      ],
      "metadata": {
        "colab": {
          "base_uri": "https://localhost:8080/"
        },
        "id": "4CB2y-oU3prA",
        "outputId": "6f093abb-4d60-4c79-e44f-8ea51dc47883"
      },
      "execution_count": null,
      "outputs": [
        {
          "output_type": "execute_result",
          "data": {
            "text/plain": [
              "tensor([[2.1157e+23, 3.4304e-06, 1.6968e-07],\n",
              "        [1.4580e-19, 7.1429e+31, 1.5766e-19],\n",
              "        [1.0256e-08, 2.6252e-06, 3.0956e+12]])"
            ]
          },
          "metadata": {},
          "execution_count": 2
        }
      ]
    },
    {
      "cell_type": "code",
      "source": [
        "#Type of Function\n",
        "type(a)"
      ],
      "metadata": {
        "id": "iOkCic0eMZrD",
        "colab": {
          "base_uri": "https://localhost:8080/"
        },
        "outputId": "95761f7f-02c3-4e29-95cf-f28d54c063de"
      },
      "execution_count": 3,
      "outputs": [
        {
          "output_type": "execute_result",
          "data": {
            "text/plain": [
              "torch.Tensor"
            ]
          },
          "metadata": {},
          "execution_count": 3
        }
      ]
    },
    {
      "cell_type": "code",
      "source": [
        "#Zeros Function\n",
        "b=torch.zeros(2,3)\n",
        "b\n",
        "#Creation of tensor according to your need of zeros"
      ],
      "metadata": {
        "colab": {
          "base_uri": "https://localhost:8080/"
        },
        "id": "eDErp5GWNDSA",
        "outputId": "39fe0d91-9823-454a-d0c6-9d3f0e6ec113"
      },
      "execution_count": 4,
      "outputs": [
        {
          "output_type": "execute_result",
          "data": {
            "text/plain": [
              "tensor([[0., 0., 0.],\n",
              "        [0., 0., 0.]])"
            ]
          },
          "metadata": {},
          "execution_count": 4
        }
      ]
    },
    {
      "cell_type": "code",
      "source": [
        "#Ones Function\n",
        "c=torch.ones(3,3)\n",
        "c"
      ],
      "metadata": {
        "colab": {
          "base_uri": "https://localhost:8080/"
        },
        "id": "3ny5QGO-NccG",
        "outputId": "57fbee49-8d09-44d8-fc2a-9ca122bac933"
      },
      "execution_count": 5,
      "outputs": [
        {
          "output_type": "execute_result",
          "data": {
            "text/plain": [
              "tensor([[1., 1., 1.],\n",
              "        [1., 1., 1.],\n",
              "        [1., 1., 1.]])"
            ]
          },
          "metadata": {},
          "execution_count": 5
        }
      ]
    },
    {
      "cell_type": "markdown",
      "source": [
        "**Random Func**"
      ],
      "metadata": {
        "id": "3uOwyKCRN7mi"
      }
    },
    {
      "cell_type": "code",
      "source": [
        "a=torch.rand(2,3)\n",
        "a\n",
        "#Every time we run, we get different number ."
      ],
      "metadata": {
        "colab": {
          "base_uri": "https://localhost:8080/"
        },
        "id": "M7BhmEJnNpJq",
        "outputId": "1cd21e21-72e5-4acc-a881-ec915390a579"
      },
      "execution_count": 6,
      "outputs": [
        {
          "output_type": "execute_result",
          "data": {
            "text/plain": [
              "tensor([[0.7753, 0.1250, 0.8221],\n",
              "        [0.1939, 0.2004, 0.8177]])"
            ]
          },
          "metadata": {},
          "execution_count": 6
        }
      ]
    },
    {
      "cell_type": "code",
      "source": [
        "#use of Seed.\n",
        "# To get same random number every time, then we use manual_seed.\n",
        "a=torch.manual_seed(30)\n",
        "a=torch.rand(2,3)\n",
        "a"
      ],
      "metadata": {
        "colab": {
          "base_uri": "https://localhost:8080/"
        },
        "id": "LswR3PJbODR6",
        "outputId": "e5939a0e-42ed-4904-f98d-a11d1b09adb5"
      },
      "execution_count": 7,
      "outputs": [
        {
          "output_type": "execute_result",
          "data": {
            "text/plain": [
              "tensor([[0.9007, 0.7464, 0.4716],\n",
              "        [0.8738, 0.7403, 0.7840]])"
            ]
          },
          "metadata": {},
          "execution_count": 7
        }
      ]
    },
    {
      "cell_type": "code",
      "source": [
        "a=torch.manual_seed(30)\n",
        "a=torch.rand(2,3)\n",
        "a"
      ],
      "metadata": {
        "colab": {
          "base_uri": "https://localhost:8080/"
        },
        "id": "SYkhyeHBO5OK",
        "outputId": "38c0e613-cabf-4e4e-bf7e-628e0b0a1277"
      },
      "execution_count": 9,
      "outputs": [
        {
          "output_type": "execute_result",
          "data": {
            "text/plain": [
              "tensor([[0.9007, 0.7464, 0.4716],\n",
              "        [0.8738, 0.7403, 0.7840]])"
            ]
          },
          "metadata": {},
          "execution_count": 9
        }
      ]
    },
    {
      "cell_type": "code",
      "source": [
        "a=torch.rand(2,3)\n",
        "a"
      ],
      "metadata": {
        "colab": {
          "base_uri": "https://localhost:8080/"
        },
        "id": "tpj-kGRNOpON",
        "outputId": "1cb2cd4f-bad3-42be-e010-7f9a99cb4516"
      },
      "execution_count": 8,
      "outputs": [
        {
          "output_type": "execute_result",
          "data": {
            "text/plain": [
              "tensor([[0.8946, 0.6238, 0.4276],\n",
              "        [0.8421, 0.7454, 0.6181]])"
            ]
          },
          "metadata": {},
          "execution_count": 8
        }
      ]
    },
    {
      "cell_type": "markdown",
      "source": [
        "**Custom Tensors**"
      ],
      "metadata": {
        "id": "rUha1ZJtPClC"
      }
    },
    {
      "cell_type": "code",
      "source": [
        "#Put your value to your own.\n",
        "a=torch.tensor([[[1,2,3]],[[2,3,5]]])\n",
        "a\n",
        "# 3D Tensor in Pytorch"
      ],
      "metadata": {
        "colab": {
          "base_uri": "https://localhost:8080/"
        },
        "id": "d2Ys6O4ROszE",
        "outputId": "d60509d4-a759-4ed4-95da-c9465a93bdd7"
      },
      "execution_count": 11,
      "outputs": [
        {
          "output_type": "execute_result",
          "data": {
            "text/plain": [
              "tensor([[[1, 2, 3]],\n",
              "\n",
              "        [[2, 3, 5]]])"
            ]
          },
          "metadata": {},
          "execution_count": 11
        }
      ]
    },
    {
      "cell_type": "code",
      "source": [
        "#1D Tensor\n",
        "b=torch.tensor([1,2,4,5])\n",
        "b"
      ],
      "metadata": {
        "colab": {
          "base_uri": "https://localhost:8080/"
        },
        "id": "FCdTb4cgPdnr",
        "outputId": "3754a163-03aa-4ead-864f-78a167a9a885"
      },
      "execution_count": 12,
      "outputs": [
        {
          "output_type": "execute_result",
          "data": {
            "text/plain": [
              "tensor([1, 2, 4, 5])"
            ]
          },
          "metadata": {},
          "execution_count": 12
        }
      ]
    },
    {
      "cell_type": "code",
      "source": [
        "#2D Tensor\n",
        "c=torch.tensor([[1,2,4,5],[34,522,45,6666666]])\n",
        "c"
      ],
      "metadata": {
        "colab": {
          "base_uri": "https://localhost:8080/"
        },
        "id": "otYVAgt_Pomh",
        "outputId": "6a7c74aa-4f49-4663-fece-d461632158f0"
      },
      "execution_count": 14,
      "outputs": [
        {
          "output_type": "execute_result",
          "data": {
            "text/plain": [
              "tensor([[      1,       2,       4,       5],\n",
              "        [     34,     522,      45, 6666666]])"
            ]
          },
          "metadata": {},
          "execution_count": 14
        }
      ]
    },
    {
      "cell_type": "code",
      "source": [
        "type(c)"
      ],
      "metadata": {
        "colab": {
          "base_uri": "https://localhost:8080/"
        },
        "id": "wP_BwgPoPxJ4",
        "outputId": "67f5d45a-6269-4c59-a433-5b9ad7a0a2b7"
      },
      "execution_count": 15,
      "outputs": [
        {
          "output_type": "execute_result",
          "data": {
            "text/plain": [
              "torch.Tensor"
            ]
          },
          "metadata": {},
          "execution_count": 15
        }
      ]
    },
    {
      "cell_type": "code",
      "source": [
        "#Arange Func in Pytorch\n",
        "a=torch.arange(0,9,3)\n",
        "a"
      ],
      "metadata": {
        "colab": {
          "base_uri": "https://localhost:8080/"
        },
        "id": "_kSvttCuP4Yh",
        "outputId": "a19f7185-b822-43ea-c5a2-3201a0891848"
      },
      "execution_count": 16,
      "outputs": [
        {
          "output_type": "execute_result",
          "data": {
            "text/plain": [
              "tensor([0, 3, 6])"
            ]
          },
          "metadata": {},
          "execution_count": 16
        }
      ]
    },
    {
      "cell_type": "code",
      "source": [
        "#Linspace\n",
        "#linspace divided the total value into equal parts\n",
        "a=torch.linspace(0,11,4)"
      ],
      "metadata": {
        "id": "RhWrsFdcQ6Jt"
      },
      "execution_count": 17,
      "outputs": []
    },
    {
      "cell_type": "code",
      "source": [
        "a"
      ],
      "metadata": {
        "colab": {
          "base_uri": "https://localhost:8080/"
        },
        "id": "lhzb9-2cRDVF",
        "outputId": "03ff2920-aaab-4f0e-9aa1-bb9984b076bc"
      },
      "execution_count": 18,
      "outputs": [
        {
          "output_type": "execute_result",
          "data": {
            "text/plain": [
              "tensor([ 0.0000,  3.6667,  7.3333, 11.0000])"
            ]
          },
          "metadata": {},
          "execution_count": 18
        }
      ]
    },
    {
      "cell_type": "code",
      "source": [
        "#Eye Function\n",
        "#Eye function means identity matrix.\n",
        "a=torch.eye(3)"
      ],
      "metadata": {
        "id": "W4_ylU5BREdv"
      },
      "execution_count": 19,
      "outputs": []
    },
    {
      "cell_type": "code",
      "source": [
        "a"
      ],
      "metadata": {
        "colab": {
          "base_uri": "https://localhost:8080/"
        },
        "id": "leZjN7n3RWvG",
        "outputId": "57176d11-8245-4a46-9690-615e4dba27f8"
      },
      "execution_count": 20,
      "outputs": [
        {
          "output_type": "execute_result",
          "data": {
            "text/plain": [
              "tensor([[1., 0., 0.],\n",
              "        [0., 1., 0.],\n",
              "        [0., 0., 1.]])"
            ]
          },
          "metadata": {},
          "execution_count": 20
        }
      ]
    },
    {
      "cell_type": "code",
      "source": [
        "a=torch.eye(11)\n",
        "a"
      ],
      "metadata": {
        "colab": {
          "base_uri": "https://localhost:8080/"
        },
        "id": "QI5YSIg0RXO8",
        "outputId": "f6034819-ef68-49f1-e78f-05358d641b4a"
      },
      "execution_count": 21,
      "outputs": [
        {
          "output_type": "execute_result",
          "data": {
            "text/plain": [
              "tensor([[1., 0., 0., 0., 0., 0., 0., 0., 0., 0., 0.],\n",
              "        [0., 1., 0., 0., 0., 0., 0., 0., 0., 0., 0.],\n",
              "        [0., 0., 1., 0., 0., 0., 0., 0., 0., 0., 0.],\n",
              "        [0., 0., 0., 1., 0., 0., 0., 0., 0., 0., 0.],\n",
              "        [0., 0., 0., 0., 1., 0., 0., 0., 0., 0., 0.],\n",
              "        [0., 0., 0., 0., 0., 1., 0., 0., 0., 0., 0.],\n",
              "        [0., 0., 0., 0., 0., 0., 1., 0., 0., 0., 0.],\n",
              "        [0., 0., 0., 0., 0., 0., 0., 1., 0., 0., 0.],\n",
              "        [0., 0., 0., 0., 0., 0., 0., 0., 1., 0., 0.],\n",
              "        [0., 0., 0., 0., 0., 0., 0., 0., 0., 1., 0.],\n",
              "        [0., 0., 0., 0., 0., 0., 0., 0., 0., 0., 1.]])"
            ]
          },
          "metadata": {},
          "execution_count": 21
        }
      ]
    },
    {
      "cell_type": "code",
      "source": [
        "#full func\n",
        "#Here we describe we need 3 by 3 tensor and every item should be 5.\n",
        "a=torch.full((3,3),5)\n",
        "a"
      ],
      "metadata": {
        "colab": {
          "base_uri": "https://localhost:8080/"
        },
        "id": "DLf_6JeLRa1R",
        "outputId": "2825409f-03a4-42bc-b76f-dd630255c513"
      },
      "execution_count": 22,
      "outputs": [
        {
          "output_type": "execute_result",
          "data": {
            "text/plain": [
              "tensor([[5, 5, 5],\n",
              "        [5, 5, 5],\n",
              "        [5, 5, 5]])"
            ]
          },
          "metadata": {},
          "execution_count": 22
        }
      ]
    },
    {
      "cell_type": "code",
      "source": [],
      "metadata": {
        "id": "c327u76xSC44"
      },
      "execution_count": null,
      "outputs": []
    }
  ]
}